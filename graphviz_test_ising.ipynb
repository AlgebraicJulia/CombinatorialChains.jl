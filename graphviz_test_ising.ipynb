{
  "cells": [
    {
      "cell_type": "code",
      "source": [
        "import Pkg; Pkg.add(\"DataStructures\")\n",
        "import Pkg; Pkg.add(\"Requires\")\n",
        "using Catlab.CategoricalAlgebra.CSets\n",
        "using Catlab.Present, Catlab.Graphics, Catlab.Graphs\n",
        "include(\"/Users/amyjade/Documents/ACT2021/code/GraphvizIsingGraphs.jl\")"
      ],
      "outputs": [
        {
          "output_type": "stream",
          "name": "stderr",
          "text": [
            "\u001b[32m\u001b[1m  Resolving\u001b[22m\u001b[39m package versions...\n",
            "\u001b[32m\u001b[1mNo Changes\u001b[22m\u001b[39m to `~/.julia/environments/v1.5/Project.toml`\n",
            "\u001b[32m\u001b[1mNo Changes\u001b[22m\u001b[39m to `~/.julia/environments/v1.5/Manifest.toml`\n",
            "\u001b[32m\u001b[1m  Resolving\u001b[22m\u001b[39m package versions...\n",
            "\u001b[32m\u001b[1mNo Changes\u001b[22m\u001b[39m to `~/.julia/environments/v1.5/Project.toml`\n",
            "\u001b[32m\u001b[1mNo Changes\u001b[22m\u001b[39m to `~/.julia/environments/v1.5/Manifest.toml`\n",
            "WARNING: replacing module GraphvizIsingGraphs.\n"
          ]
        },
        {
          "output_type": "execute_result",
          "execution_count": 29,
          "data": {
            "text/plain": "Main.GraphvizIsingGraphs"
          },
          "metadata": {}
        }
      ],
      "execution_count": 29,
      "metadata": {
        "collapsed": true,
        "jupyter": {
          "source_hidden": false,
          "outputs_hidden": false
        },
        "nteract": {
          "transient": {
            "deleting": false
          }
        },
        "execution": {
          "iopub.status.busy": "2021-07-07T15:47:26.865Z",
          "iopub.execute_input": "2021-07-07T15:47:26.870Z",
          "iopub.status.idle": "2021-07-07T15:47:28.827Z"
        }
      }
    },
    {
      "cell_type": "code",
      "source": [
        "# Create an instance of that schema\n",
        "i = IsingGraph()\n",
        "add_parts!(i, :V1, 3)\n",
        "add_parts!(i, :V2, 1)\n",
        "add_parts!(i, :E, 2, p=[1,3], q=[1,1])\n",
        "add_parts!(i, :L1, 2, src1=[1,2], tgt1=[2,3])\n",
        "add_parts!(i, :L2, 0, src1=[], tgt1=[])\n",
        "\n",
        "to_graphviz_ising(i)"
      ],
      "outputs": [
        {
          "output_type": "error",
          "ename": "LoadError",
          "evalue": "\u001b[91mUndefVarError: to_graphviz_ising not defined\u001b[39m",
          "traceback": [
            "\u001b[91mUndefVarError: to_graphviz_ising not defined\u001b[39m",
            "",
            "Stacktrace:",
            " [1] top-level scope at In[31]:9",
            " [2] include_string(::Function, ::Module, ::String, ::String) at ./loading.jl:1091"
          ]
        }
      ],
      "execution_count": 31,
      "metadata": {
        "collapsed": true,
        "jupyter": {
          "source_hidden": false,
          "outputs_hidden": false
        },
        "nteract": {
          "transient": {
            "deleting": false
          }
        },
        "execution": {
          "iopub.status.busy": "2021-07-07T17:47:14.866Z",
          "iopub.execute_input": "2021-07-07T17:47:14.911Z",
          "iopub.status.idle": "2021-07-07T15:43:18.201Z"
        }
      }
    }
  ],
  "metadata": {
    "kernel_info": {
      "name": "julia-1.5"
    },
    "language_info": {
      "file_extension": ".jl",
      "name": "julia",
      "mimetype": "application/julia",
      "version": "1.5.4"
    },
    "kernelspec": {
      "argv": [
        "/Applications/Julia-1.5.app/Contents/Resources/julia/bin/julia",
        "-i",
        "--color=yes",
        "--project=@.",
        "/Users/amyjade/.julia/packages/IJulia/IDNmS/src/kernel.jl",
        "{connection_file}"
      ],
      "display_name": "Julia 1.5.3",
      "env": {},
      "interrupt_mode": "signal",
      "language": "julia",
      "name": "julia-1.5"
    },
    "nteract": {
      "version": "0.28.0"
    }
  },
  "nbformat": 4,
  "nbformat_minor": 0
}